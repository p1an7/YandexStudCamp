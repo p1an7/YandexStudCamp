{
 "cells": [
  {
   "cell_type": "code",
   "id": "initial_id",
   "metadata": {
    "collapsed": true,
    "ExecuteTime": {
     "end_time": "2024-10-20T19:59:18.199005Z",
     "start_time": "2024-10-20T19:59:18.145155Z"
    }
   },
   "source": [
    "import cv2\n",
    "import numpy as np\n",
    "import matplotlib.pyplot as plt"
   ],
   "outputs": [],
   "execution_count": 1
  },
  {
   "metadata": {
    "ExecuteTime": {
     "end_time": "2024-10-20T19:59:18.514440Z",
     "start_time": "2024-10-20T19:59:18.495249Z"
    }
   },
   "cell_type": "code",
   "source": "frame = cv2.imread('outp.jpg')",
   "id": "227876f7a6a5b62f",
   "outputs": [],
   "execution_count": 2
  },
  {
   "metadata": {
    "ExecuteTime": {
     "end_time": "2024-10-20T19:55:21.156323Z",
     "start_time": "2024-10-20T19:55:21.150371Z"
    }
   },
   "cell_type": "code",
   "source": [
    "def show(frame):\n",
    "    cv2.imshow('frame', frame)\n",
    "    cv2.waitKey(0)\n",
    "    cv2.destroyAllWindows()"
   ],
   "id": "ca0abcb3c55dc578",
   "outputs": [],
   "execution_count": 4
  },
  {
   "metadata": {
    "ExecuteTime": {
     "end_time": "2024-10-20T19:55:21.800379Z",
     "start_time": "2024-10-20T19:55:21.789358Z"
    }
   },
   "cell_type": "code",
   "source": [
    "def show(images):\n",
    "    size = (900, 600)\n",
    "    for i, image in enumerate(images):\n",
    "        window_name = f'window {i}'\n",
    "        cv2.namedWindow(window_name, cv2.WINDOW_NORMAL)\n",
    "        cv2.resizeWindow(window_name, *size)\n",
    "        cv2.imshow(window_name, image)\n",
    "    cv2.waitKey(0)\n",
    "    cv2.destroyAllWindows()"
   ],
   "id": "6e0829e2cf32aa1",
   "outputs": [],
   "execution_count": 5
  },
  {
   "metadata": {
    "ExecuteTime": {
     "end_time": "2024-10-20T19:55:23.451714Z",
     "start_time": "2024-10-20T19:55:23.443471Z"
    }
   },
   "cell_type": "code",
   "source": [
    "def find_color(image, lower, upper, color='bgr', show_image=True):\n",
    "    original_image = image.copy()\n",
    "    image = image.copy()\n",
    "\n",
    "    if color == 'hsv':\n",
    "        image = cv2.cvtColor(image, cv2.COLOR_BGR2HSV)\n",
    "    elif color == 'gray':\n",
    "        image = cv2.cvtColor(image, cv2.COLOR_BGR2GRAY)\n",
    "    lower = np.array(lower)\n",
    "    upper = np.array(upper)\n",
    "    mask = cv2.inRange(image, lower, upper)\n",
    "    if color == 'hsv':\n",
    "        image[mask == 0] = [0, 0, 255]\n",
    "    elif color == 'gray':\n",
    "        image[mask == 0] = 0\n",
    "    else:\n",
    "        image[mask == 0] = [255, 255, 255]\n",
    "    if color == 'hsv':\n",
    "        image = cv2.cvtColor(image, cv2.COLOR_HSV2BGR)\n",
    "    if show_image:\n",
    "        show([original_image, image])\n",
    "    return image"
   ],
   "id": "4e0c11534d5c122",
   "outputs": [],
   "execution_count": 6
  },
  {
   "metadata": {
    "ExecuteTime": {
     "start_time": "2024-10-20T19:55:24.780289Z"
    }
   },
   "cell_type": "code",
   "source": "show([frame])",
   "id": "59019fc33f1bde4f",
   "outputs": [],
   "execution_count": null
  },
  {
   "metadata": {},
   "cell_type": "code",
   "source": "objs = find_color(frame, [0, 0, 0], [150, 150, 150], show_image=False)",
   "id": "67c32d566e8ea8",
   "outputs": [],
   "execution_count": null
  },
  {
   "metadata": {},
   "cell_type": "code",
   "source": [
    "def binarize(image, show_image=False):\n",
    "    gray = cv2.cvtColor(image, cv2.COLOR_BGR2GRAY)\n",
    "    _, binary = cv2.threshold(gray, 0, 255, cv2.THRESH_BINARY + cv2.THRESH_OTSU)\n",
    "    if show_image:\n",
    "        show([image, binary])\n",
    "    return binary"
   ],
   "id": "2e308f489dc804f1",
   "outputs": [],
   "execution_count": null
  },
  {
   "metadata": {},
   "cell_type": "code",
   "source": "binary = binarize(frame, True)",
   "id": "d10e20ca1703fa7b",
   "outputs": [],
   "execution_count": null
  },
  {
   "metadata": {},
   "cell_type": "code",
   "source": [
    "from ultralytics import YOLO\n",
    "\n",
    "model = YOLO('best_up.pt')\n",
    "results = model.predict([frame])\n",
    "\n",
    "bboxes = results[0].boxes\n",
    "for bbox in bboxes:\n",
    "    left, top, right, bottom = bbox.xyxy[0]\n",
    "    cv2.rectangle(frame, (int(left), int(top)), (int(right), int(bottom)), (255, 0, 0), 2)\n",
    "\n",
    "show([frame])"
   ],
   "id": "22289b019cdbb25f",
   "outputs": [],
   "execution_count": null
  },
  {
   "metadata": {
    "ExecuteTime": {
     "end_time": "2024-10-20T20:03:14.636386Z",
     "start_time": "2024-10-20T20:03:14.416110Z"
    }
   },
   "cell_type": "code",
   "source": [
    "import cv2\n",
    "import numpy as np\n",
    "\n",
    "\n",
    "def draw_circle_on_click(window_name='Image', window_size=(512, 512), circle_radius=20, circle_color=(0, 255, 0),\n",
    "                         circle_thickness=-1):\n",
    "    # Variable to store the coordinates\n",
    "    coords = []\n",
    "\n",
    "    # Define the mouse callback function\n",
    "    def mouse_callback(event, x, y, flags, param):\n",
    "        if event == cv2.EVENT_LBUTTONDOWN:\n",
    "            # Draw a circle at the clicked point\n",
    "            cv2.circle(frame, (x, y), circle_radius, circle_color, circle_thickness)\n",
    "            cv2.imshow(window_name, frame)\n",
    "            # Store the coordinates\n",
    "            coords.append((x, y))\n",
    "            # Optionally, close the window after the first click\n",
    "            cv2.destroyAllWindows()\n",
    "\n",
    "    # Create a window and set the mouse callback\n",
    "    cv2.namedWindow(window_name)\n",
    "    cv2.setMouseCallback(window_name, mouse_callback)\n",
    "\n",
    "    # Display the image and wait for a click\n",
    "    cv2.imshow(window_name, frame)\n",
    "    # Wait indefinitely until a key is pressed or window is closed\n",
    "\n",
    "    if coords:\n",
    "        return coords[0]\n",
    "    else:\n",
    "        return None\n",
    "\n"
   ],
   "id": "5c7447f0f20beba2",
   "outputs": [],
   "execution_count": 1
  },
  {
   "metadata": {
    "ExecuteTime": {
     "end_time": "2024-10-20T20:49:36.767565Z",
     "start_time": "2024-10-20T20:49:36.753616Z"
    }
   },
   "cell_type": "code",
   "source": [
    "def binarize(image, show_image=False):\n",
    "    gray = cv2.cvtColor(image, cv2.COLOR_BGR2GRAY)\n",
    "    _, binary = cv2.threshold(gray, 0, 255, cv2.THRESH_BINARY + cv2.THRESH_OTSU)\n",
    "    if show_image:\n",
    "        show([image, binary])\n",
    "    return binary"
   ],
   "id": "31f723f9987bf718",
   "outputs": [],
   "execution_count": 4
  },
  {
   "metadata": {},
   "cell_type": "code",
   "outputs": [],
   "execution_count": null,
   "source": [
    "from math import acos, sqrt\n",
    "\n",
    "\n",
    "def getAngle(segment):\n",
    "    a, b = segment\n",
    "    dx = b.x - a.x\n",
    "    dy = b.y - a.y\n",
    "    return acos(sqrt(dx ** 2 + dy ** 2) / dx)"
   ],
   "id": "d9451b3f941ebee9"
  },
  {
   "metadata": {
    "ExecuteTime": {
     "end_time": "2024-10-20T20:52:13.195243Z",
     "start_time": "2024-10-20T20:52:12.561938Z"
    }
   },
   "cell_type": "code",
   "source": [
    "import matplotlib.pyplot as plt\n",
    "from skimage.morphology import skeletonize\n",
    "\n",
    "frame = cv2.imread('template.png')\n",
    "frame = binarize(frame, False)\n",
    "skeleton = skeletonize(frame)\n",
    "skeleton = skeleton.astype(np.uint8)\n",
    "\n",
    "plt.imshow(skeleton)"
   ],
   "id": "d636362cff9457ab",
   "outputs": [
    {
     "data": {
      "text/plain": [
       "<matplotlib.image.AxesImage at 0x1c254412150>"
      ]
     },
     "execution_count": 8,
     "metadata": {},
     "output_type": "execute_result"
    },
    {
     "data": {
      "text/plain": [
       "<Figure size 640x480 with 1 Axes>"
      ],
      "image/png": "[encoded data removed]"
     },
     "metadata": {},
     "output_type": "display_data"
    }
   ],
   "execution_count": 8
  },
  {
   "metadata": {},
   "cell_type": "code",
   "outputs": [],
   "execution_count": null,
   "source": "",
   "id": "f946d3843fc1bbd9"
  }
 ],
 "metadata": {
  "kernelspec": {
   "display_name": "Python 3",
   "language": "python",
   "name": "python3"
  },
  "language_info": {
   "codemirror_mode": {
    "name": "ipython",
    "version": 2
   },
   "file_extension": ".py",
   "mimetype": "text/x-python",
   "name": "python",
   "nbconvert_exporter": "python",
   "pygments_lexer": "ipython2",
   "version": "2.7.6"
  }
 },
 "nbformat": 4,
 "nbformat_minor": 5
}
